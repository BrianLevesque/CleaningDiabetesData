{
 "cells": [
  {
   "cell_type": "markdown",
   "metadata": {},
   "source": [
    "# Pima Data cleaning\n",
    "\n"
   ]
  },
  {
   "cell_type": "code",
   "execution_count": 1,
   "metadata": {},
   "outputs": [],
   "source": [
    "# Import Modules Here\n",
    "import pandas as pd\n",
    "import numpy as np\n",
    "import statistics\n",
    "import math"
   ]
  },
  {
   "cell_type": "markdown",
   "metadata": {},
   "source": [
    "## Part 1: Read the Data into Jupyter"
   ]
  },
  {
   "cell_type": "code",
   "execution_count": 3,
   "metadata": {},
   "outputs": [],
   "source": [
    "# Read the data into a dataframe named pima_df.\n",
    "# YOUR CODE HERE\n",
    "pima_df = pd.read_csv('./diabetes_uncleaned_data.csv')"
   ]
  },
  {
   "cell_type": "markdown",
   "metadata": {},
   "source": [
    "## Part 2: Missing Data"
   ]
  },
  {
   "cell_type": "code",
   "execution_count": 4,
   "metadata": {},
   "outputs": [
    {
     "name": "stdout",
     "output_type": "stream",
     "text": [
      "<class 'pandas.core.frame.DataFrame'>\n",
      "RangeIndex: 1004 entries, 0 to 1003\n",
      "Data columns (total 9 columns):\n",
      " #   Column                    Non-Null Count  Dtype  \n",
      "---  ------                    --------------  -----  \n",
      " 0   Pregnancies               890 non-null    float64\n",
      " 1   Glucose                   988 non-null    float64\n",
      " 2   BloodPressure             982 non-null    object \n",
      " 3   SkinThickness             1004 non-null   int64  \n",
      " 4   Insulin                   1004 non-null   int64  \n",
      " 5   BMI                       1003 non-null   object \n",
      " 6   DiabetesPedigreeFunction  1004 non-null   float64\n",
      " 7   Age                       982 non-null    float64\n",
      " 8   Outcome                   1004 non-null   object \n",
      "dtypes: float64(4), int64(2), object(3)\n",
      "memory usage: 70.7+ KB\n"
     ]
    }
   ],
   "source": [
    "#Question 1:  Find Columns with missing data\n",
    "# YOUR CODE HERE\n",
    "pima_df.info()\n",
    "#Columns Pregnacies, Glucose, BloodPressure, BMI (only one missing value) , Age all have some mission data"
   ]
  },
  {
   "cell_type": "code",
   "execution_count": 5,
   "metadata": {},
   "outputs": [
    {
     "name": "stdout",
     "output_type": "stream",
     "text": [
      "<class 'pandas.core.frame.DataFrame'>\n",
      "Index: 840 entries, 0 to 1003\n",
      "Data columns (total 9 columns):\n",
      " #   Column                    Non-Null Count  Dtype  \n",
      "---  ------                    --------------  -----  \n",
      " 0   Pregnancies               840 non-null    float64\n",
      " 1   Glucose                   840 non-null    float64\n",
      " 2   BloodPressure             840 non-null    object \n",
      " 3   SkinThickness             840 non-null    int64  \n",
      " 4   Insulin                   840 non-null    int64  \n",
      " 5   BMI                       840 non-null    object \n",
      " 6   DiabetesPedigreeFunction  840 non-null    float64\n",
      " 7   Age                       840 non-null    float64\n",
      " 8   Outcome                   840 non-null    object \n",
      "dtypes: float64(4), int64(2), object(3)\n",
      "memory usage: 65.6+ KB\n"
     ]
    }
   ],
   "source": [
    "# Question 2:  Write code to remove rows with missing data and save the new dataframe as pima_missing_fixed_df\n",
    "# YOUR CODE HERE\n",
    "pima_missing_fixed_df = pima_df.dropna()\n",
    "pima_missing_fixed_df.info()"
   ]
  },
  {
   "cell_type": "code",
   "execution_count": 7,
   "metadata": {},
   "outputs": [
    {
     "name": "stdout",
     "output_type": "stream",
     "text": [
      "Original amount of rows: 1004\n",
      "Fixed amount of rows: 840\n"
     ]
    }
   ],
   "source": [
    "# Question 3:  Print out the number of rows in the dataframe.\n",
    "# YOUR CODE HERE\n",
    "print(f\"Original amount of rows: {len(pima_df)}\")\n",
    "print(f\"Fixed amount of rows: {len(pima_missing_fixed_df)}\")\n"
   ]
  },
  {
   "cell_type": "markdown",
   "metadata": {},
   "source": [
    "### Question 4:  Discuss why this could be a problem.  What other methods could you use in this situation? \n",
    "\n",
    "Your Discussion here"
   ]
  },
  {
   "cell_type": "markdown",
   "metadata": {},
   "source": [
    "## Part 3: Duplicated Data"
   ]
  },
  {
   "cell_type": "code",
   "execution_count": 14,
   "metadata": {},
   "outputs": [
    {
     "name": "stdout",
     "output_type": "stream",
     "text": [
      "      Pregnancies  Glucose BloodPressure  SkinThickness  Insulin   BMI  \\\n",
      "6             6.0    151.0            60             26      362  43.4   \n",
      "876           6.0     39.0            46              2      287  40.4   \n",
      "894          10.0     67.0            39             12      168  53.4   \n",
      "925           6.0     39.0            46              2      287  40.4   \n",
      "926          10.0     67.0            39             12      168  53.4   \n",
      "998           6.0    110.0            26             27      590  20.8   \n",
      "999           6.0    110.0            26             27      590  20.8   \n",
      "1003          6.0    151.0            60             26      362  43.4   \n",
      "\n",
      "      DiabetesPedigreeFunction   Age Outcome  \n",
      "6                        2.027  23.0   FALSE  \n",
      "876                      2.394  60.0    TRUE  \n",
      "894                      0.162  71.0   FALSE  \n",
      "925                      2.394  60.0    TRUE  \n",
      "926                      0.162  71.0   FALSE  \n",
      "998                      1.185  95.0   FALSE  \n",
      "999                      1.185  95.0   FALSE  \n",
      "1003                     2.027  23.0   FALSE  \n"
     ]
    }
   ],
   "source": [
    "# Question 1: find the rows of duplicated data in the \n",
    "# pima_missing_fixed_df and print them.  \n",
    "\n",
    "pima_duplicates = pima_missing_fixed_df[pima_missing_fixed_df.duplicated(keep=False)]\n",
    "print(pima_duplicates)"
   ]
  },
  {
   "cell_type": "code",
   "execution_count": 16,
   "metadata": {},
   "outputs": [
    {
     "data": {
      "text/html": [
       "<div>\n",
       "<style scoped>\n",
       "    .dataframe tbody tr th:only-of-type {\n",
       "        vertical-align: middle;\n",
       "    }\n",
       "\n",
       "    .dataframe tbody tr th {\n",
       "        vertical-align: top;\n",
       "    }\n",
       "\n",
       "    .dataframe thead th {\n",
       "        text-align: right;\n",
       "    }\n",
       "</style>\n",
       "<table border=\"1\" class=\"dataframe\">\n",
       "  <thead>\n",
       "    <tr style=\"text-align: right;\">\n",
       "      <th></th>\n",
       "      <th>Pregnancies</th>\n",
       "      <th>Glucose</th>\n",
       "      <th>BloodPressure</th>\n",
       "      <th>SkinThickness</th>\n",
       "      <th>Insulin</th>\n",
       "      <th>BMI</th>\n",
       "      <th>DiabetesPedigreeFunction</th>\n",
       "      <th>Age</th>\n",
       "      <th>Outcome</th>\n",
       "    </tr>\n",
       "  </thead>\n",
       "  <tbody>\n",
       "    <tr>\n",
       "      <th>0</th>\n",
       "      <td>3.0</td>\n",
       "      <td>167.0</td>\n",
       "      <td>39</td>\n",
       "      <td>28</td>\n",
       "      <td>545</td>\n",
       "      <td>53.0</td>\n",
       "      <td>2.447</td>\n",
       "      <td>125.0</td>\n",
       "      <td>FALSE</td>\n",
       "    </tr>\n",
       "    <tr>\n",
       "      <th>1</th>\n",
       "      <td>13.0</td>\n",
       "      <td>151.0</td>\n",
       "      <td>107</td>\n",
       "      <td>38</td>\n",
       "      <td>10000</td>\n",
       "      <td>9.2</td>\n",
       "      <td>0.507</td>\n",
       "      <td>148.0</td>\n",
       "      <td>FALSE</td>\n",
       "    </tr>\n",
       "    <tr>\n",
       "      <th>2</th>\n",
       "      <td>8.0</td>\n",
       "      <td>59.0</td>\n",
       "      <td>109</td>\n",
       "      <td>18</td>\n",
       "      <td>739</td>\n",
       "      <td>59.1</td>\n",
       "      <td>1.769</td>\n",
       "      <td>91.0</td>\n",
       "      <td>TRUE</td>\n",
       "    </tr>\n",
       "    <tr>\n",
       "      <th>4</th>\n",
       "      <td>10.0</td>\n",
       "      <td>165.0</td>\n",
       "      <td>48</td>\n",
       "      <td>37</td>\n",
       "      <td>737</td>\n",
       "      <td>39.4</td>\n",
       "      <td>0.729</td>\n",
       "      <td>73.0</td>\n",
       "      <td>FALSE</td>\n",
       "    </tr>\n",
       "    <tr>\n",
       "      <th>5</th>\n",
       "      <td>-100.0</td>\n",
       "      <td>142.0</td>\n",
       "      <td>88</td>\n",
       "      <td>39</td>\n",
       "      <td>82</td>\n",
       "      <td>42.7</td>\n",
       "      <td>1.369</td>\n",
       "      <td>148.0</td>\n",
       "      <td>TRUE</td>\n",
       "    </tr>\n",
       "    <tr>\n",
       "      <th>...</th>\n",
       "      <td>...</td>\n",
       "      <td>...</td>\n",
       "      <td>...</td>\n",
       "      <td>...</td>\n",
       "      <td>...</td>\n",
       "      <td>...</td>\n",
       "      <td>...</td>\n",
       "      <td>...</td>\n",
       "      <td>...</td>\n",
       "    </tr>\n",
       "    <tr>\n",
       "      <th>997</th>\n",
       "      <td>13.0</td>\n",
       "      <td>163.0</td>\n",
       "      <td>10</td>\n",
       "      <td>37</td>\n",
       "      <td>457</td>\n",
       "      <td>8.0</td>\n",
       "      <td>2.400</td>\n",
       "      <td>125.0</td>\n",
       "      <td>TRUE</td>\n",
       "    </tr>\n",
       "    <tr>\n",
       "      <th>999</th>\n",
       "      <td>6.0</td>\n",
       "      <td>110.0</td>\n",
       "      <td>26</td>\n",
       "      <td>27</td>\n",
       "      <td>590</td>\n",
       "      <td>20.8</td>\n",
       "      <td>1.185</td>\n",
       "      <td>95.0</td>\n",
       "      <td>FALSE</td>\n",
       "    </tr>\n",
       "    <tr>\n",
       "      <th>1001</th>\n",
       "      <td>4.0</td>\n",
       "      <td>80.0</td>\n",
       "      <td>24</td>\n",
       "      <td>6</td>\n",
       "      <td>268</td>\n",
       "      <td>48.9</td>\n",
       "      <td>0.989</td>\n",
       "      <td>81.0</td>\n",
       "      <td>TRUE</td>\n",
       "    </tr>\n",
       "    <tr>\n",
       "      <th>1002</th>\n",
       "      <td>3.0</td>\n",
       "      <td>142.0</td>\n",
       "      <td>Error</td>\n",
       "      <td>10</td>\n",
       "      <td>299</td>\n",
       "      <td>4.8</td>\n",
       "      <td>2.411</td>\n",
       "      <td>71.0</td>\n",
       "      <td>TRUE</td>\n",
       "    </tr>\n",
       "    <tr>\n",
       "      <th>1003</th>\n",
       "      <td>6.0</td>\n",
       "      <td>151.0</td>\n",
       "      <td>60</td>\n",
       "      <td>26</td>\n",
       "      <td>362</td>\n",
       "      <td>43.4</td>\n",
       "      <td>2.027</td>\n",
       "      <td>23.0</td>\n",
       "      <td>FALSE</td>\n",
       "    </tr>\n",
       "  </tbody>\n",
       "</table>\n",
       "<p>836 rows × 9 columns</p>\n",
       "</div>"
      ],
      "text/plain": [
       "      Pregnancies  Glucose BloodPressure  SkinThickness  Insulin   BMI  \\\n",
       "0             3.0    167.0            39             28      545  53.0   \n",
       "1            13.0    151.0           107             38    10000   9.2   \n",
       "2             8.0     59.0           109             18      739  59.1   \n",
       "4            10.0    165.0            48             37      737  39.4   \n",
       "5          -100.0    142.0            88             39       82  42.7   \n",
       "...           ...      ...           ...            ...      ...   ...   \n",
       "997          13.0    163.0            10             37      457   8.0   \n",
       "999           6.0    110.0            26             27      590  20.8   \n",
       "1001          4.0     80.0            24              6      268  48.9   \n",
       "1002          3.0    142.0         Error             10      299   4.8   \n",
       "1003          6.0    151.0            60             26      362  43.4   \n",
       "\n",
       "      DiabetesPedigreeFunction    Age Outcome  \n",
       "0                        2.447  125.0   FALSE  \n",
       "1                        0.507  148.0   FALSE  \n",
       "2                        1.769   91.0    TRUE  \n",
       "4                        0.729   73.0   FALSE  \n",
       "5                        1.369  148.0    TRUE  \n",
       "...                        ...    ...     ...  \n",
       "997                      2.400  125.0    TRUE  \n",
       "999                      1.185   95.0   FALSE  \n",
       "1001                     0.989   81.0    TRUE  \n",
       "1002                     2.411   71.0    TRUE  \n",
       "1003                     2.027   23.0   FALSE  \n",
       "\n",
       "[836 rows x 9 columns]"
      ]
     },
     "execution_count": 16,
     "metadata": {},
     "output_type": "execute_result"
    }
   ],
   "source": [
    "# Question 2:  Write code to remove the duplicate rows  \n",
    "#and save the new dataframe as pima_dedupped_df\n",
    "\n",
    "pima_dedupped_df = pima_missing_fixed_df.drop_duplicates(keep='last')\n",
    "pima_dedupped_df "
   ]
  },
  {
   "cell_type": "code",
   "execution_count": 18,
   "metadata": {},
   "outputs": [
    {
     "name": "stdout",
     "output_type": "stream",
     "text": [
      "Original amount of rows: 840\n",
      "Dedupped amount of rows: 836\n"
     ]
    }
   ],
   "source": [
    "# Question 3:  Print out the number of rows in the dataframe.\n",
    "print(f\"Original amount of rows: {len(pima_missing_fixed_df)}\")\n",
    "print(f\"Dedupped amount of rows: {len(pima_dedupped_df)}\")\n"
   ]
  },
  {
   "cell_type": "markdown",
   "metadata": {},
   "source": [
    "### Question 4:  In your jupyter notebook, discuss why this could be a problem.\n",
    "### What other methods could you use in this situation? \n",
    "\n",
    "Your discussion here"
   ]
  },
  {
   "cell_type": "markdown",
   "metadata": {},
   "source": [
    "## Part 4: Mis-typed Columns/Broken Data\n"
   ]
  },
  {
   "cell_type": "code",
   "execution_count": 64,
   "metadata": {},
   "outputs": [
    {
     "name": "stdout",
     "output_type": "stream",
     "text": [
      "BMI\n",
      "15.1    6\n",
      "59.6    6\n",
      "7.0     6\n",
      "17.4    6\n",
      "29.7    5\n",
      "       ..\n",
      "33.7    1\n",
      "38.2    1\n",
      "1.7     1\n",
      "3.6     1\n",
      "4.8     1\n",
      "Name: count, Length: 451, dtype: int64\n",
      "Pregnancies\n",
      " 8.0      73\n",
      " 7.0      73\n",
      " 3.0      64\n",
      " 13.0     63\n",
      " 10.0     61\n",
      " 11.0     61\n",
      " 6.0      61\n",
      " 12.0     61\n",
      " 0.0      58\n",
      " 4.0      58\n",
      " 9.0      57\n",
      " 1.0      52\n",
      " 2.0      48\n",
      " 5.0      45\n",
      "-100.0     1\n",
      "Name: count, dtype: int64\n",
      "BloodPressure\n",
      "96       15\n",
      "82       15\n",
      "26       15\n",
      "27       15\n",
      "81       13\n",
      "         ..\n",
      "107       4\n",
      "13        3\n",
      "10000     2\n",
      "Error     2\n",
      "19        1\n",
      "Name: count, Length: 113, dtype: int64\n",
      "Outcome\n",
      "FALSE    441\n",
      "TRUE     394\n",
      "ERROR      1\n",
      "Name: count, dtype: int64\n"
     ]
    }
   ],
   "source": [
    "# Question 1: find the columns where most of the data seems to be one type of data, \n",
    "#and there seems to be a data error. \n",
    "#In the markdown, after exploring in code, \n",
    "#add a markdown cell discussing which columns have the data error. \n",
    "print(pima_dedupped_df[\"BMI\"].value_counts())\n",
    "print(pima_dedupped_df[\"Pregnancies\"].value_counts())\n",
    "print(pima_dedupped_df[\"BloodPressure\"].value_counts())\n",
    "print(pima_dedupped_df[\"Outcome\"].value_counts())"
   ]
  },
  {
   "cell_type": "markdown",
   "metadata": {},
   "source": [
    "Pregnancies, Blood Pressure and Outcome all have errors. Outcome has the simplest error in that one cell is not true or false it causes an error. Pregnancies has a logically error in that it has a -100 value in it and it is impossible to have negative pregnancies. Blood pressure 2 values that product an error."
   ]
  },
  {
   "cell_type": "code",
   "execution_count": 46,
   "metadata": {},
   "outputs": [
    {
     "name": "stdout",
     "output_type": "stream",
     "text": [
      "Outcome\n",
      "FALSE    441\n",
      "TRUE     394\n",
      "Name: count, dtype: int64\n",
      "Pregnancies\n",
      "8.0     73\n",
      "7.0     73\n",
      "3.0     64\n",
      "13.0    63\n",
      "10.0    61\n",
      "11.0    61\n",
      "6.0     61\n",
      "12.0    61\n",
      "0.0     58\n",
      "4.0     58\n",
      "9.0     57\n",
      "1.0     52\n",
      "2.0     47\n",
      "5.0     45\n",
      "Name: count, dtype: int64\n",
      "BloodPressure\n",
      "82       15\n",
      "26       15\n",
      "27       15\n",
      "96       15\n",
      "81       13\n",
      "         ..\n",
      "29        4\n",
      "107       4\n",
      "13        3\n",
      "10000     2\n",
      "19        1\n",
      "Name: count, Length: 112, dtype: int64\n"
     ]
    }
   ],
   "source": [
    "# Question 2: Remove the rows with data errors\n",
    "error_values = [\"ERROR\",\"Error\"]\n",
    "cleaned_df = pima_dedupped_df[~pima_dedupped_df['Outcome'].isin(error_values)]\n",
    "print(cleaned_df[\"Outcome\"].value_counts())\n",
    "\n",
    "cleaned_df = cleaned_df[cleaned_df['Pregnancies'] >= 0]\n",
    "print(cleaned_df[\"Pregnancies\"].value_counts())\n",
    "\n",
    "cleaned_df = cleaned_df.loc[cleaned_df['BloodPressure']!='Error', :]\n",
    "print(cleaned_df[\"BloodPressure\"].value_counts())"
   ]
  },
  {
   "cell_type": "code",
   "execution_count": 65,
   "metadata": {},
   "outputs": [],
   "source": [
    "# Question 3: After the data is fixed in your columns change the columns to the correct type and save this as the pima_fixed_columns_df.\n",
    "cleaned_df['Pregnancies'] = cleaned_df['Pregnancies'].astype(int)\n",
    "#print(cleaned_df[\"Pregnancies\"].value_counts())\n",
    "\n",
    "cleaned_df['BloodPressure'] = cleaned_df['BloodPressure'].astype(int)\n",
    "#print(cleaned_df[\"BloodPressure\"].value_counts())\n",
    "\n",
    "def word_bool(x):\n",
    "    if x == 0:\n",
    "        return False\n",
    "    elif x == 1:\n",
    "        return True\n",
    "    else:\n",
    "        raise Exception(\"this must be true or false case insensitive\")\n",
    "        \n",
    "cleaned_df['Outcome'] = cleaned_df['Outcome'].apply(word_bool)\n",
    "#print(cleaned_df[\"Outcome\"].value_counts())\n",
    "\n",
    "pima_fixed_columns_df = cleaned_df"
   ]
  },
  {
   "cell_type": "code",
   "execution_count": 55,
   "metadata": {},
   "outputs": [
    {
     "name": "stdout",
     "output_type": "stream",
     "text": [
      "<class 'pandas.core.frame.DataFrame'>\n",
      "Index: 832 entries, 0 to 1003\n",
      "Data columns (total 9 columns):\n",
      " #   Column                    Non-Null Count  Dtype  \n",
      "---  ------                    --------------  -----  \n",
      " 0   Pregnancies               832 non-null    int64  \n",
      " 1   Glucose                   832 non-null    float64\n",
      " 2   BloodPressure             832 non-null    int64  \n",
      " 3   SkinThickness             832 non-null    int64  \n",
      " 4   Insulin                   832 non-null    int64  \n",
      " 5   BMI                       832 non-null    object \n",
      " 6   DiabetesPedigreeFunction  832 non-null    float64\n",
      " 7   Age                       832 non-null    float64\n",
      " 8   Outcome                   832 non-null    bool   \n",
      "dtypes: bool(1), float64(3), int64(4), object(1)\n",
      "memory usage: 59.3+ KB\n"
     ]
    }
   ],
   "source": [
    "# Question 4: Run pima_fixed_columns_df.info() to confirm the columns have changed.\n",
    "pima_fixed_columns_df.info()"
   ]
  },
  {
   "cell_type": "markdown",
   "metadata": {},
   "source": [
    "## Part 5: Outlier Detection and Removal\n"
   ]
  },
  {
   "cell_type": "code",
   "execution_count": 68,
   "metadata": {},
   "outputs": [
    {
     "name": "stdout",
     "output_type": "stream",
     "text": [
      "Empty DataFrame\n",
      "Columns: [Pregnancies, Glucose, BloodPressure, SkinThickness, Insulin, BMI, DiabetesPedigreeFunction, Age, Outcome]\n",
      "Index: []\n",
      "Empty DataFrame\n",
      "Columns: [Pregnancies, Glucose, BloodPressure, SkinThickness, Insulin, BMI, DiabetesPedigreeFunction, Age, Outcome]\n",
      "Index: []\n",
      "     Pregnancies  Glucose  BloodPressure  SkinThickness  Insulin   BMI  \\\n",
      "649            3    155.0          10000             35      748  32.6   \n",
      "995            5     62.0          10000             13      412  48.7   \n",
      "\n",
      "     DiabetesPedigreeFunction    Age  Outcome  \n",
      "649                     0.098   85.0     True  \n",
      "995                     0.267  101.0    False  \n",
      "Empty DataFrame\n",
      "Columns: [Pregnancies, Glucose, BloodPressure, SkinThickness, Insulin, BMI, DiabetesPedigreeFunction, Age, Outcome]\n",
      "Index: []\n",
      "   Pregnancies  Glucose  BloodPressure  SkinThickness  Insulin  BMI  \\\n",
      "1           13    151.0            107             38    10000  9.2   \n",
      "\n",
      "   DiabetesPedigreeFunction    Age  Outcome  \n",
      "1                     0.507  148.0    False  \n",
      "Empty DataFrame\n",
      "Columns: [Pregnancies, Glucose, BloodPressure, SkinThickness, Insulin, BMI, DiabetesPedigreeFunction, Age, Outcome]\n",
      "Index: []\n",
      "Empty DataFrame\n",
      "Columns: [Pregnancies, Glucose, BloodPressure, SkinThickness, Insulin, BMI, DiabetesPedigreeFunction, Age, Outcome]\n",
      "Index: []\n"
     ]
    }
   ],
   "source": [
    "# Question 1: Print out the Outliers in each column in the pima_fixed_columns_df dataframe, use the IQR method of outlier detection.\n",
    "def is_outlier(column):\n",
    "        Q1 = column.quantile(0.25)\n",
    "        Q3 = column.quantile(0.75)\n",
    "        IQR = Q3 - Q1\n",
    "        lower_bound = Q1 - 1.5 * IQR\n",
    "        upper_bound = Q3 + 1.5 * IQR\n",
    "        return ~column.between(lower_bound, upper_bound)\n",
    "    \n",
    "print(pima_fixed_columns_df[is_outlier(pima_fixed_columns_df['Pregnancies']) == True])\n",
    "print(pima_fixed_columns_df[is_outlier(pima_fixed_columns_df['Glucose']) == True])\n",
    "print(pima_fixed_columns_df[is_outlier(pima_fixed_columns_df['BloodPressure']) == True])\n",
    "print(pima_fixed_columns_df[is_outlier(pima_fixed_columns_df['SkinThickness']) == True])\n",
    "print(pima_fixed_columns_df[is_outlier(pima_fixed_columns_df['Insulin']) == True])\n",
    "#print(pima_fixed_columns_df[is_outlier(pima_fixed_columns_df['BMI']) == True])\n",
    "print(pima_fixed_columns_df[is_outlier(pima_fixed_columns_df['Age']) == True])\n",
    "print(pima_fixed_columns_df[is_outlier(pima_fixed_columns_df['Pregnancies']) == True])\n"
   ]
  },
  {
   "cell_type": "code",
   "execution_count": null,
   "metadata": {},
   "outputs": [],
   "source": [
    "# Question 2: Use loc to remove outliers in each of the columns that have outliers, save this as pima_outlier_removed_df.\n"
   ]
  },
  {
   "cell_type": "code",
   "execution_count": null,
   "metadata": {},
   "outputs": [],
   "source": [
    "# Question 3:  Print out the row count in the pima_outlier_removed_df and confirm this number is correct.\n"
   ]
  }
 ],
 "metadata": {
  "kernelspec": {
   "display_name": "Python 3 (ipykernel)",
   "language": "python",
   "name": "python3"
  },
  "language_info": {
   "codemirror_mode": {
    "name": "ipython",
    "version": 3
   },
   "file_extension": ".py",
   "mimetype": "text/x-python",
   "name": "python",
   "nbconvert_exporter": "python",
   "pygments_lexer": "ipython3",
   "version": "3.11.8"
  }
 },
 "nbformat": 4,
 "nbformat_minor": 2
}
